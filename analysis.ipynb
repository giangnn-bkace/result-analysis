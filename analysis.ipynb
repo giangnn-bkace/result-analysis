{
 "cells": [
  {
   "cell_type": "code",
   "execution_count": 1,
   "metadata": {},
   "outputs": [],
   "source": [
    "import pandas as pd\n",
    "import numpy as np\n",
    "import matplotlib.pyplot as plt\n",
    "import seaborn as sns\n",
    "\n",
    "%matplotlib inline"
   ]
  },
  {
   "cell_type": "code",
   "execution_count": 2,
   "metadata": {},
   "outputs": [],
   "source": [
    "def softmax(x):\n",
    "    return np.exp(x) / np.sum(np.exp(x), axis=0)"
   ]
  },
  {
   "cell_type": "code",
   "execution_count": 10,
   "metadata": {},
   "outputs": [
    {
     "name": "stdout",
     "output_type": "stream",
     "text": [
      "         r1         r2        r3        r4        r5        r6        r7  \\\n",
      "0 -0.795741  10.239339 -0.412855 -4.944712 -2.480436  5.252425 -6.714810   \n",
      "1 -1.127811  11.179989  0.134118 -5.033363 -1.108556  3.778624 -5.803679   \n",
      "2 -1.432058  11.447810 -0.747062 -5.168765 -2.358906  6.018133 -7.150262   \n",
      "3  0.119476  14.565108  0.216638 -5.108922 -1.045167  4.410847 -6.036085   \n",
      "4  0.399822  15.352140 -0.933121 -4.512376 -1.373816  4.295237 -6.937357   \n",
      "\n",
      "         r8        f1        f2        f3        f4        f5         f6  \\\n",
      "0 -4.623600  4.769966  7.152369 -0.088015 -4.572352 -2.432803  12.286706   \n",
      "1 -4.072296  4.353301  6.070570  0.272064 -3.826813 -2.494717   9.829166   \n",
      "2 -4.506099  2.774347  4.186133  0.918375 -2.689473 -1.646483   6.984939   \n",
      "3 -5.229732  3.388550  3.202555  1.317965 -2.979149 -1.527546   6.737193   \n",
      "4 -5.622418  3.955263  3.051845  1.214829 -2.674772 -0.933654   6.659656   \n",
      "\n",
      "         f7        f8  label  \n",
      "0 -6.859501 -4.999918      1  \n",
      "1 -5.423772 -5.238261      1  \n",
      "2 -3.347077 -4.612346      1  \n",
      "3 -3.336445 -4.981424      1  \n",
      "4 -3.393090 -4.357310      1  \n",
      "(285691, 17)\n",
      "(285691, 17)\n",
      "(285691, 17)\n"
     ]
    }
   ],
   "source": [
    "num_test = 2\n",
    "result_i3d = []\n",
    "result_r21d = []\n",
    "for run in range(num_test):\n",
    "    tmp_result_i3d = pd.DataFrame()\n",
    "    tmp_result_r21d = pd.DataFrame()\n",
    "    for i in [1,2,3,4,5,6,7,8,9,10,11,12]:\n",
    "        file_name_i3d = 'test-i3d-run_0%d/result-%d.csv' % (run+1, i)\n",
    "        file_name_r21d = 'test-r21d-run_0%d/result-%d.csv' % (run+1, i)\n",
    "        read_i3d = pd.read_csv(file_name_i3d, index_col=0)\n",
    "        read_r21d = pd.read_csv(file_name_r21d, index_col=0)\n",
    "        tmp_result_i3d = pd.concat([tmp_result_i3d, read_i3d], ignore_index=True)\n",
    "        tmp_result_r21d = pd.concat([tmp_result_r21d, read_r21d], ignore_index=True)\n",
    "    result_i3d.append(tmp_result_i3d)\n",
    "    result_r21d.append(tmp_result_r21d)\n",
    "print(result_i3d[0].head())\n",
    "print(result_r21d[0].shape)\n",
    "print(result_i3d[1].shape)\n",
    "print(result_r21d[1].shape)"
   ]
  },
  {
   "cell_type": "code",
   "execution_count": 16,
   "metadata": {},
   "outputs": [
    {
     "name": "stdout",
     "output_type": "stream",
     "text": [
      "r1    -0.795741\n",
      "r2    10.239339\n",
      "r3    -0.412855\n",
      "r4    -4.944712\n",
      "r5    -2.480436\n",
      "r6     5.252425\n",
      "r7    -6.714810\n",
      "r8    -4.623600\n",
      "Name: 0, dtype: float64\n",
      "r1    1.058993\n",
      "r2    9.054296\n",
      "r3    0.689330\n",
      "r4   -1.211838\n",
      "r5   -2.251263\n",
      "r6    8.151849\n",
      "r7   -3.655004\n",
      "r8   -4.447754\n",
      "Name: 0, dtype: float64\n",
      "f1     4.769966\n",
      "f2     7.152369\n",
      "f3    -0.088015\n",
      "f4    -4.572352\n",
      "f5    -2.432803\n",
      "f6    12.286706\n",
      "f7    -6.859501\n",
      "f8    -4.999918\n",
      "Name: 0, dtype: float64\n",
      "f1    3.469338\n",
      "f2    9.818991\n",
      "f3   -1.841666\n",
      "f4   -0.632856\n",
      "f5   -4.791169\n",
      "f6    3.818008\n",
      "f7   -2.951398\n",
      "f8   -6.465236\n",
      "Name: 0, dtype: float64\n",
      "(285691, 8)\n",
      "(285691, 8)\n",
      "285691\n",
      "285691\n",
      "0         1\n",
      "1         1\n",
      "2         1\n",
      "3         1\n",
      "4         1\n",
      "5         1\n",
      "6         1\n",
      "7         1\n",
      "8         1\n",
      "9         1\n",
      "10        1\n",
      "11        1\n",
      "12        1\n",
      "13        1\n",
      "14        1\n",
      "15        1\n",
      "16        1\n",
      "17        1\n",
      "18        1\n",
      "19        1\n",
      "20        1\n",
      "21        1\n",
      "22        1\n",
      "23        1\n",
      "24        1\n",
      "25        1\n",
      "26        1\n",
      "27        1\n",
      "28        1\n",
      "29        1\n",
      "         ..\n",
      "285661    7\n",
      "285662    7\n",
      "285663    7\n",
      "285664    7\n",
      "285665    7\n",
      "285666    7\n",
      "285667    7\n",
      "285668    7\n",
      "285669    7\n",
      "285670    7\n",
      "285671    7\n",
      "285672    7\n",
      "285673    7\n",
      "285674    7\n",
      "285675    7\n",
      "285676    7\n",
      "285677    7\n",
      "285678    7\n",
      "285679    7\n",
      "285680    7\n",
      "285681    7\n",
      "285682    7\n",
      "285683    7\n",
      "285684    7\n",
      "285685    7\n",
      "285686    7\n",
      "285687    7\n",
      "285688    7\n",
      "285689    7\n",
      "285690    7\n",
      "Name: label, Length: 285691, dtype: int64\n"
     ]
    }
   ],
   "source": [
    "i3d_rgb_out = []\n",
    "i3d_rgb_out = []\n",
    "i3d_flow_out = []\n",
    "i3d_labels = []\n",
    "r21d_rgb_out = []\n",
    "r21d_flow_out = []\n",
    "r21d_labels = []\n",
    "\n",
    "for run in range(num_test):\n",
    "    i3d_rgb_out.append(result_i3d[run].iloc[:,0:8])\n",
    "    i3d_flow_out.append(result_i3d[run].iloc[:,8:16])\n",
    "    i3d_labels.append(result_i3d[run].iloc[:,16])\n",
    "    r21d_rgb_out.append(result_r21d[run].iloc[:,0:8])\n",
    "    r21d_flow_out.append(result_r21d[run].iloc[:,8:16])\n",
    "    r21d_labels.append(result_r21d[run].iloc[:,16])\n",
    "\n",
    "print(i3d_rgb_out[0].iloc[0,0:8])\n",
    "print(i3d_rgb_out[1].iloc[0,0:8])\n",
    "print(i3d_flow_out[0].iloc[0,0:8])\n",
    "print(i3d_flow_out[1].iloc[0,0:8])\n",
    "print(i3d_flow_out[1].shape)\n",
    "print(r21d_flow_out[1].shape)\n",
    "print(sum(i3d_labels[0]==i3d_labels[1]))\n",
    "print(sum(r21d_labels[1]==i3d_labels[1]))\n",
    "print(i3d_labels[0])"
   ]
  },
  {
   "cell_type": "code",
   "execution_count": 13,
   "metadata": {},
   "outputs": [
    {
     "name": "stdout",
     "output_type": "stream",
     "text": [
      "[5.87237111e-04 4.81263504e-01 6.26698813e-05 6.90585165e-07\n",
      " 6.90121080e-06 5.18078252e-01 9.08233130e-08 6.54788317e-07]\n",
      "[7.43233252e-04 9.68484714e-01 4.34094096e-05 3.07072207e-05\n",
      " 2.28331521e-06 3.06924839e-02 2.83954273e-06 3.29674204e-07]\n"
     ]
    }
   ],
   "source": [
    "all_i3d_mixed = []\n",
    "all_r21d_mixed = []\n",
    "for run in range(num_test):\n",
    "    i3d_mixed = []\n",
    "    r21d_mixed = []\n",
    "    flow_weight = [0, 0.1, 0.2, 0.3, 0.4, 0.5, 0.6, 0.7, 0.8, 0.9, 1]\n",
    "    for weight in range(11):\n",
    "        i3d_mixed.append(np.asarray(i3d_rgb_out[run])*(1-flow_weight[weight]) + np.asarray(i3d_flow_out[run])*flow_weight[weight])\n",
    "        r21d_mixed.append(np.asarray(r21d_rgb_out[run])*(1-flow_weight[weight]) + np.asarray(r21d_flow_out[run])*flow_weight[weight])\n",
    "    all_i3d_mixed.append(i3d_mixed)\n",
    "    all_r21d_mixed.append(r21d_mixed)\n",
    "print(softmax(all_i3d_mixed[0][5][0]))\n",
    "print(softmax(all_i3d_mixed[1][5][0]))"
   ]
  },
  {
   "cell_type": "code",
   "execution_count": 14,
   "metadata": {},
   "outputs": [
    {
     "name": "stdout",
     "output_type": "stream",
     "text": [
      "[5.87237111e-04 4.81263504e-01 6.26698813e-05 6.90585165e-07\n",
      " 6.90121080e-06 5.18078252e-01 9.08233130e-08 6.54788317e-07]\n",
      "[7.43233252e-04 9.68484714e-01 4.34094096e-05 3.07072207e-05\n",
      " 2.28331521e-06 3.06924839e-02 2.83954273e-06 3.29674204e-07]\n"
     ]
    }
   ],
   "source": [
    "all_i3d_sm = []\n",
    "all_r21d_sm = []\n",
    "for run in range(num_test):\n",
    "    i3d_sm = []\n",
    "    r21d_sm = []\n",
    "    for weight in range(11):\n",
    "        tmp = []\n",
    "        for i in range(all_i3d_mixed[run][weight].shape[0]):\n",
    "            tmp.append(softmax(all_i3d_mixed[run][weight][i]))\n",
    "        i3d_sm.append(np.asarray(tmp))\n",
    "        r_tmp = []\n",
    "        for i in range(all_r21d_mixed[run][weight].shape[0]):\n",
    "            r_tmp.append(softmax(all_r21d_mixed[run][weight][i]))\n",
    "        r21d_sm.append(np.asarray(r_tmp))\n",
    "    all_i3d_sm.append(i3d_sm)\n",
    "    all_r21d_sm.append(r21d_sm)\n",
    "print(all_i3d_sm[0][5][0])\n",
    "print(all_i3d_sm[1][5][0])"
   ]
  },
  {
   "cell_type": "code",
   "execution_count": 17,
   "metadata": {},
   "outputs": [
    {
     "name": "stdout",
     "output_type": "stream",
     "text": [
      "[0.7646176911544228, 0.7811094452773614, 0.7901049475262368, 0.7868065967016492, 0.782608695652174, 0.7598200899550225, 0.7295352323838081, 0.6926536731634183, 0.6491754122938531, 0.6014992503748126, 0.5592203898050975]\n",
      "[0.7646176911544228, 0.7811094452773614, 0.7901049475262368, 0.7868065967016492, 0.782608695652174, 0.7598200899550225, 0.7295352323838081, 0.6926536731634183, 0.6491754122938531, 0.6014992503748126, 0.5592203898050975]\n"
     ]
    }
   ],
   "source": [
    "from sklearn.metrics import accuracy_score\n",
    "\n",
    "all_i3d_class_acc = []\n",
    "all_r21d_class_acc = []\n",
    "for run in range(num_test):\n",
    "    i3d_class_acc = []\n",
    "    r21d_class_acc = []\n",
    "    for i in range(8):\n",
    "        acc = []\n",
    "        for weight in range(11):\n",
    "            acc.append(accuracy_score(i3d_labels[0][i3d_labels[run]==i], all_i3d_sm[0][weight][i3d_labels[run]==i].argmax(axis=1)))\n",
    "        i3d_class_acc.append(acc)\n",
    "        r_acc = []\n",
    "        for weight in range(11):\n",
    "            r_acc.append(accuracy_score(r21d_labels[run][r21d_labels[run]==i], all_r21d_sm[run][weight][r21d_labels[run]==i].argmax(axis=1)))\n",
    "        r21d_class_acc.append(r_acc)\n",
    "    all_i3d_class_acc.append(i3d_class_acc)\n",
    "    all_r21d_class_acc.append(r21d_class_acc)\n",
    "print(all_i3d_class_acc[0][0])\n",
    "print(all_i3d_class_acc[1][0])"
   ]
  },
  {
   "cell_type": "code",
   "execution_count": null,
   "metadata": {
    "scrolled": false
   },
   "outputs": [],
   "source": [
    "all_i3d_acc = []\n",
    "all_r21d_acc = []\n",
    "for run in range(num_test):\n",
    "    i3d_acc = []\n",
    "    r21d_acc = []\n",
    "    for weight in range(11):\n",
    "        i3d_acc.append(accuracy_score(i3d_labels[run], all_i3d_sm[run][weight].argmax(axis=1)))\n",
    "    for weight in range(11):\n",
    "        r21d_acc.append(accuracy_score(r21d_labels[run], all_r21d_sm[run][weight].argmax(axis=1)))\n",
    "    all_i3d_acc.append(i3d_acc)\n",
    "    all_r21d_acc.append(r21d_acc)\n",
    "print(all_i3d_acc[0])\n",
    "print(all_r21d_acc[1])"
   ]
  },
  {
   "cell_type": "code",
   "execution_count": null,
   "metadata": {},
   "outputs": [],
   "source": [
    "accuracies = []\n",
    "for i in range(8):\n",
    "    tmp_result = []\n",
    "    for run in range(num_test):\n",
    "        i3d_result_acc = pd.DataFrame({'accuracy':all_i3d_class_acc[run][i],'model':'i3d','flow_weight':flow_weight,'run':run})\n",
    "        r21d_result_acc = pd.DataFrame({'accuracy':all_r21d_class_acc[run][i],'model':'r(2+1)d','flow_weight':flow_weight,'run':run})\n",
    "        result_acc = pd.concat([i3d_result_acc, r21d_result_acc], ignore_index=True)\n",
    "        tmp_result.append(result_acc)\n",
    "    acc_result = tmp_result[0]\n",
    "    for id in range(len(tmp_result)-1):\n",
    "        acc_result = pd.concat([acc_result, tmp_result[id+1]], ignore_index=True)\n",
    "    accuracies.append(acc_result)\n",
    "accuracies[0]"
   ]
  },
  {
   "cell_type": "code",
   "execution_count": null,
   "metadata": {},
   "outputs": [],
   "source": [
    "i3d_result_acc_all = pd.DataFrame({'accuracy':i3d_acc_all,'model':'i3d','flow_weight':flow_weight})\n",
    "r21d_result_acc_all = pd.DataFrame({'accuracy':r21d_acc_all,'model':'r(2+1)d','flow_weight':flow_weight})\n",
    "accuracy_all = pd.concat([i3d_result_acc_all, r21d_result_acc_all], ignore_index=True)\n",
    "accuracy_all"
   ]
  },
  {
   "cell_type": "code",
   "execution_count": null,
   "metadata": {
    "scrolled": true
   },
   "outputs": [],
   "source": [
    "class_labels = ['drink', 'eat', 'groom', 'hang', 'micro-movement', 'rear', 'rest', 'walk']\n",
    "f,ax=plt.subplots(4,2,figsize=(12,24))\n",
    "for i in range(8):\n",
    "    sns.pointplot('flow_weight','accuracy',hue='model',data=accuracies[i],ax=ax[int(i/2),i%2])\n",
    "    ax[int(i/2),i%2].set_title(class_labels[i])\n",
    "#plt.close(8)\n",
    "f.savefig('class_acc.pdf', bbox_inches='tight')\n",
    "plt.show()"
   ]
  },
  {
   "cell_type": "code",
   "execution_count": null,
   "metadata": {},
   "outputs": [],
   "source": [
    "f,ax=plt.subplots(1,1,figsize=(12,12))\n",
    "sns.pointplot('flow_weight','accuracy',hue='model',data=accuracy_all,ax=ax)\n",
    "ax.set_title('Accuracy')\n",
    "#plt.close(8)\n",
    "f.savefig('all_acc.pdf', bbox_inches='tight')\n",
    "plt.show()"
   ]
  },
  {
   "cell_type": "code",
   "execution_count": null,
   "metadata": {
    "scrolled": true
   },
   "outputs": [],
   "source": [
    "from sklearn.metrics import confusion_matrix\n",
    "cfm = confusion_matrix(r21d_labels, r21d_sm[10].argmax(axis=1))\n",
    "fig,ax=plt.subplots(1,1,figsize=(7,6))\n",
    "sns.heatmap(cfm, annot=True, fmt='d',ax=ax)\n",
    "ax.set_title('Flow Only')\n",
    "fig.savefig('r21d_flow.pdf', bbox_inches='tight')\n",
    "plt.show()"
   ]
  },
  {
   "cell_type": "code",
   "execution_count": null,
   "metadata": {},
   "outputs": [],
   "source": [
    "print(labels.shape)\n",
    "sum = 0\n",
    "for i in range(8):\n",
    "    print(len(labels[labels==i]))\n",
    "    sum+=len(labels[labels==i])\n",
    "sum"
   ]
  },
  {
   "cell_type": "code",
   "execution_count": null,
   "metadata": {
    "scrolled": true
   },
   "outputs": [],
   "source": [
    "sm[0].argmax(axis=1)\n",
    "sm[0][1]"
   ]
  },
  {
   "cell_type": "code",
   "execution_count": null,
   "metadata": {
    "scrolled": true
   },
   "outputs": [],
   "source": [
    "num_frames = labels.value_counts()\n",
    "num_frames[sorted(num_frames.index)]"
   ]
  },
  {
   "cell_type": "code",
   "execution_count": null,
   "metadata": {},
   "outputs": [],
   "source": [
    "from matplotlib.ticker import MultipleLocator, FormatStrFormatter\n",
    "majorLocator = MultipleLocator(10000)\n",
    "minorLocator = MultipleLocator(2000)\n",
    "fig, ax = plt.subplots()\n",
    "#ax.yaxis.set_major_formatter(formatter)\n",
    "ax.barh(num_frames.index, num_frames.values)\n",
    "ax.set_xlabel(\"Number of frames\")\n",
    "plt.yticks(sorted(num_frames.index), ('drink', 'eat', 'groom', 'hang', 'micro-movement', 'rear', 'rest', 'walk'))\n",
    "plt.xticks()\n",
    "#x.xaxis.set_major_locator(majorLocator)\n",
    "ax.xaxis.set_minor_locator(minorLocator)\n",
    "plt.show()\n",
    "fig.savefig('num_frames.pdf', bbox_inches='tight')"
   ]
  },
  {
   "cell_type": "code",
   "execution_count": null,
   "metadata": {},
   "outputs": [],
   "source": [
    "f,ax=plt.subplots(1,2,figsize=(20,8))\n",
    "sns.barplot('SibSp','Survived',data=data,ax=ax[0])\n",
    "ax[0].set_title('SibSp vs Survived')\n",
    "sns.factorplot('SibSp','Survived',data=data,ax=ax[1])\n",
    "ax[1].set_title('SibSp vs Survived')\n",
    "plt.close(2)\n",
    "plt.show()"
   ]
  }
 ],
 "metadata": {
  "kernelspec": {
   "display_name": "Python 3",
   "language": "python",
   "name": "python3"
  },
  "language_info": {
   "codemirror_mode": {
    "name": "ipython",
    "version": 3
   },
   "file_extension": ".py",
   "mimetype": "text/x-python",
   "name": "python",
   "nbconvert_exporter": "python",
   "pygments_lexer": "ipython3",
   "version": "3.5.6"
  }
 },
 "nbformat": 4,
 "nbformat_minor": 2
}
