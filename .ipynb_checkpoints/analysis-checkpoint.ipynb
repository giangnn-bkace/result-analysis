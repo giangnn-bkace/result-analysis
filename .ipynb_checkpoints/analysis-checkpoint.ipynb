{
 "cells": [
  {
   "cell_type": "code",
   "execution_count": 1,
   "metadata": {},
   "outputs": [],
   "source": [
    "import pandas as pd\n",
    "import numpy as np\n",
    "import matplotlib.pyplot as plt\n",
    "\n",
    "%matplotlib inline"
   ]
  },
  {
   "cell_type": "code",
   "execution_count": 2,
   "metadata": {},
   "outputs": [],
   "source": [
    "def softmax(x):\n",
    "    return np.exp(x) / np.sum(np.exp(x), axis=0)"
   ]
  },
  {
   "cell_type": "code",
   "execution_count": 3,
   "metadata": {},
   "outputs": [],
   "source": [
    "result = pd.DataFrame()\n",
    "for i in range(1,4):\n",
    "    file_name = 'result-%d.csv' % (i)\n",
    "    read = pd.read_csv(file_name, index_col=0)\n",
    "    result = pd.concat([result, read], ignore_index=True)\n",
    "#result[6550:7000]"
   ]
  },
  {
   "cell_type": "code",
   "execution_count": 4,
   "metadata": {},
   "outputs": [],
   "source": [
    "rgb_out = result.iloc[:,0:8]\n",
    "#print(rgb_out[0:10])\n",
    "flow_out = result.iloc[:,8:16]\n",
    "#print(flow_out[0:5])\n",
    "labels = result.iloc[:,16]\n",
    "#print(labels[:5])\n",
    "#print(rgb_out.shape)"
   ]
  },
  {
   "cell_type": "code",
   "execution_count": 5,
   "metadata": {},
   "outputs": [
    {
     "data": {
      "text/plain": [
       "array([ 4.3533006,  6.07057  ,  0.2720636, -3.8268132, -2.4947174,\n",
       "        9.829166 , -5.4237723, -5.2382607])"
      ]
     },
     "execution_count": 5,
     "metadata": {},
     "output_type": "execute_result"
    }
   ],
   "source": [
    "mixed = []\n",
    "flow_weight = [0, 0.1, 0.2, 0.3, 0.4, 0.5, 0.6, 0.7, 0.8, 0.9, 1]\n",
    "for weight in range(11):\n",
    "    mixed.append(np.asarray(rgb_out)*(1-flow_weight[weight]) + np.asarray(flow_out)*flow_weight[weight])\n",
    "mixed[10][1]"
   ]
  },
  {
   "cell_type": "code",
   "execution_count": 12,
   "metadata": {},
   "outputs": [
    {
     "name": "stdout",
     "output_type": "stream",
     "text": [
      "[3.83859979e-03 1.77768685e-01 1.88719005e-04 2.52858916e-06\n",
      " 1.60916332e-05 8.18183781e-01 6.04128063e-07 9.90759857e-07]\n"
     ]
    }
   ],
   "source": [
    "sm = []\n",
    "for weight in range(11):\n",
    "    tmp = []\n",
    "    for i in range(mixed[weight].shape[0]):\n",
    "        tmp.append(softmax(mixed[weight][i]))\n",
    "    sm.append(np.asarray(tmp))"
   ]
  },
  {
   "cell_type": "code",
   "execution_count": 14,
   "metadata": {},
   "outputs": [
    {
     "name": "stdout",
     "output_type": "stream",
     "text": [
      "[0.9444520830468858, 0.9540079747009487, 0.9620514230716348, 0.966245015811907, 0.9666575003437371, 0.9656262890141619, 0.9651450570603602, 0.963288876667125, 0.9612264540079747, 0.9593702736147395, 0.9575140932215042]\n"
     ]
    }
   ],
   "source": [
    "from sklearn.metrics import accuracy_score\n",
    "acc = []\n",
    "for weight in range(11):\n",
    "    acc.append(accuracy_score(labels, sm[weight].argmax(axis=1)))\n",
    "print(acc)"
   ]
  },
  {
   "cell_type": "code",
   "execution_count": 13,
   "metadata": {},
   "outputs": [
    {
     "name": "stdout",
     "output_type": "stream",
     "text": [
      "[ 3.25707828  7.0924538   0.2444745  -4.06812316 -2.2174852   8.6190576\n",
      " -5.49975374 -5.00506776]\n",
      "[4.07423687e-03 2.26906480e-02 6.87998618e-05 1.14147917e-06\n",
      " 4.32503718e-06 9.73160339e-01 2.31162544e-07 2.78281368e-07]\n",
      "[3.83859979e-03 1.77768685e-01 1.88719005e-04 2.52858916e-06\n",
      " 1.60916332e-05 8.18183781e-01 6.04128063e-07 9.90759857e-07]\n"
     ]
    }
   ],
   "source": [
    "print(mixed[8][1])\n",
    "print(softmax(mixed[10][1]))\n",
    "print(sm[8][1])"
   ]
  }
 ],
 "metadata": {
  "kernelspec": {
   "display_name": "Python 3",
   "language": "python",
   "name": "python3"
  },
  "language_info": {
   "codemirror_mode": {
    "name": "ipython",
    "version": 3
   },
   "file_extension": ".py",
   "mimetype": "text/x-python",
   "name": "python",
   "nbconvert_exporter": "python",
   "pygments_lexer": "ipython3",
   "version": "3.5.6"
  }
 },
 "nbformat": 4,
 "nbformat_minor": 2
}
